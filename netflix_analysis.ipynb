{
 "cells": [
  {
   "cell_type": "markdown",
   "id": "bcbda8fd",
   "metadata": {},
   "source": [
    "# Data Analysis with Python - Netflix Dataset\n",
    "(dataset from Kaggle)"
   ]
  },
  {
   "cell_type": "code",
   "execution_count": null,
   "id": "88dec94e",
   "metadata": {},
   "outputs": [],
   "source": [
    "#Import the dataset\n",
    "import pandas as pd #to import pandas library\n",
    "data= pd.read_csv(r\"filepathname\")\n",
    "data #to preview dataset"
   ]
  },
  {
   "cell_type": "code",
   "execution_count": null,
   "id": "b6d26eb4",
   "metadata": {},
   "outputs": [],
   "source": [
    "#Get some basic information from the dataset\n",
    "data.head() #shows top 5 records\n",
    "data.tail() #shows bottom 5 records\n",
    "data.shape #shows no. of columns & rows\n",
    "data.size #shows no. of total values (elements)\n",
    "data.columns #shows each column names\n",
    "data.dtypes #shows data type of each column\n",
    "data.info() #shows indexes, columns, data-types of each column, memory at once\n"
   ]
  },
  {
   "cell_type": "code",
   "execution_count": null,
   "id": "da012085",
   "metadata": {},
   "outputs": [],
   "source": [
    "#Task 1: Is there any duplicae records in the dataset? If yes, then remove the duplicate records.\n",
    "data[data.duplicated()] #shows only duplicate records\n",
    "data.drop_duplicates(inplace = True) #for permanent change\n",
    "data[data.duplicated()] #to check all duplicated were removed\n"
   ]
  },
  {
   "cell_type": "code",
   "execution_count": null,
   "id": "df736d01",
   "metadata": {},
   "outputs": [],
   "source": [
    "#Task 2: Is there any null value present in any column? SHow with heat-map.\n",
    "data.head() #to look at data\n",
    "data.isnull() #to show null values - true means null values\n",
    "data.isnull().sum() #to show count of null values in each column"
   ]
  },
  {
   "cell_type": "code",
   "execution_count": null,
   "id": "8f7a8a20",
   "metadata": {},
   "outputs": [],
   "source": [
    "import seaborn as sns #to import Seaborn library\n",
    "sns.heatmap(data.isnull()) #using heat-map to show mull values count\n"
   ]
  },
  {
   "cell_type": "code",
   "execution_count": null,
   "id": "ef375263",
   "metadata": {},
   "outputs": [],
   "source": [
    "#Q.1. For \"House of Cards\", what is the show id and who is the director of this show?\n",
    "data[data['Title'].isin(['House of Cards'])] #to show all records of a particular item in any column\n"
   ]
  },
  {
   "cell_type": "code",
   "execution_count": null,
   "id": "a0cb303f",
   "metadata": {},
   "outputs": [],
   "source": [
    "data[data['Title'].str.contains('House of Cards')] #to show all records of a particular string in any column"
   ]
  },
  {
   "cell_type": "code",
   "execution_count": null,
   "id": "8689fcbc",
   "metadata": {},
   "outputs": [],
   "source": [
    "#Q.2. In which year was the highest number of tv shows & movies released? Show with bar graph.\n",
    "data.dtypes\n",
    "data['Date_N'] = pd.to_datetime(data['Release_Date'])\n",
    "data.head()\n",
    "data.dtypes #to ensure it's datetime element\n",
    "data['Date_N'].dt.year.value_counts() #it counts the occurence of all individual years in date column.\n",
    "data['Date_N'].dt.year.value_counts().plot(kind='bar')\n"
   ]
  },
  {
   "cell_type": "code",
   "execution_count": null,
   "id": "d184786d",
   "metadata": {},
   "outputs": [],
   "source": [
    "#Q.3. How many movies & tv shows are in the dataset? Show with bar graph.\n",
    "data.head(2) #to show first 2 rows\n",
    "data.groupby('Category').Category.count() #to group all unique items of a column and show their count\n",
    "sns.countplot(data['Category']) #to show the count of all uniques values of any columns as a bar graph"
   ]
  },
  {
   "cell_type": "code",
   "execution_count": null,
   "id": "d24d15dc",
   "metadata": {},
   "outputs": [],
   "source": [
    "#Q.4. Show all the movies that were released in 2000 & 2020.\n",
    "#create new column\n",
    "data.head(2)\n",
    "data['Year'] = data['Date_N'].dt.year  #to create new Year column; it will consider only year\n",
    "data.head(2)"
   ]
  },
  {
   "cell_type": "code",
   "execution_count": null,
   "id": "9fb24684",
   "metadata": {},
   "outputs": [],
   "source": [
    "#filtering\n",
    "data[(data['Category'] == 'Movie') & (data['Year'] == 2000)]\n",
    "data[(data['Category'] == 'Movie') & (data['Year'] == 2020)]"
   ]
  },
  {
   "cell_type": "code",
   "execution_count": null,
   "id": "e22bab7e",
   "metadata": {},
   "outputs": [],
   "source": [
    "#Q.5. Show only the titles of all tv shos that were released in India only.\n",
    "data.head(2)\n",
    "data[(data['Category']=='TV Show') & (data['Country']=='India')] ['Title'] #it filters by Title only"
   ]
  },
  {
   "cell_type": "code",
   "execution_count": null,
   "id": "3726b315",
   "metadata": {},
   "outputs": [],
   "source": [
    "#Q.6. Show top 10 directors who gave the highest numbr of tv shows & movies to Netflix?\n",
    "data['Director'].value_counts().head(10)"
   ]
  },
  {
   "cell_type": "code",
   "execution_count": null,
   "id": "f086267b",
   "metadata": {},
   "outputs": [],
   "source": [
    "#Q.7. Show all records where 'Category' is movie and 'Type' is comedies or 'Country' is United Kingdom.\n",
    "#filtering (And/Or operators)\n",
    "data.head(2)\n",
    "data[(data['Category']== 'Movie') & (data['Type']=='Comedies')]\n",
    "data[(data['Category']== 'Movie') & (data['Type']=='Comedies') | (data['Country']== 'United Kingdom')]"
   ]
  },
  {
   "cell_type": "code",
   "execution_count": null,
   "id": "f614bc62",
   "metadata": {},
   "outputs": [],
   "source": [
    "#Q.8. In how many movies/shows was Tom Cruise cast?\n",
    "#filtering\n",
    "data.head(2)\n",
    "data[data['Cast']== 'Tom Cruise'] #should not show any results since there are multiple names in column\n"
   ]
  },
  {
   "cell_type": "code",
   "execution_count": null,
   "id": "577a81f2",
   "metadata": {},
   "outputs": [],
   "source": [
    "#string contains\n",
    "data[data['Cast'].str.contains('Tom Cruise')] #should not work since there are null values in column\n"
   ]
  },
  {
   "cell_type": "code",
   "execution_count": null,
   "id": "f565eea9",
   "metadata": {},
   "outputs": [],
   "source": [
    "#create new data-frame\n",
    "data_new = data.dropna()  #drops rows with missing values\n",
    "data_new.head(2)\n",
    "\n",
    "data_new[data_new['Cast'].str.contains('Tom Cruise')] #should work now"
   ]
  },
  {
   "cell_type": "code",
   "execution_count": null,
   "id": "ceaa49f2",
   "metadata": {},
   "outputs": [],
   "source": [
    "#Q.9. What are the different ratings defined by Netflix?\n",
    "data_new.head(2)\n",
    "data_new['Rating'].nunique()\n",
    "data_new['Rating'].unique()"
   ]
  },
  {
   "cell_type": "code",
   "execution_count": null,
   "id": "943f10cb",
   "metadata": {},
   "outputs": [],
   "source": [
    "#Q.9.1. How many movies got the 'TV-14' raing in Canada?\n",
    "data_new.head(2)\n",
    "data_new[(data_new['Category']=='Movie') & (data_new['Rating']=='TV-14') & (data_new['Country']=='Canada')].shape"
   ]
  },
  {
   "cell_type": "code",
   "execution_count": null,
   "id": "29deb31a",
   "metadata": {},
   "outputs": [],
   "source": [
    "#Q.9.2. How many tv shows got the 'R' rating after 2018?\n",
    "data_new[(data_new['Category']=='TV Show') & (data_new['Rating']=='R') & (data_new['Year'] > 2018)]"
   ]
  },
  {
   "cell_type": "code",
   "execution_count": null,
   "id": "90228b95",
   "metadata": {},
   "outputs": [],
   "source": [
    "#Q.10. What is the maximum duration of a movie/show on Netflix?\n",
    "data_new.head(2)\n",
    "data_new.Duration.unique()\n",
    "data_new.Duration.dtypes"
   ]
  },
  {
   "cell_type": "code",
   "execution_count": null,
   "id": "e80fbabe",
   "metadata": {},
   "outputs": [],
   "source": [
    "#strip strings\n",
    "data_new.head(2)\n",
    "data_new[['Minutes','Unit']] = data_new['Duration'].str.split(' ', expand = True)\n",
    "data_new.head(2)"
   ]
  },
  {
   "cell_type": "code",
   "execution_count": null,
   "id": "9ae2ccb6",
   "metadata": {},
   "outputs": [],
   "source": [
    "data_new['Minues'].max()\n",
    "data_new['Minues'].min()\n",
    "#output may be incorrect as minutes column is an object. try converting column to integer if aggregation is necessary."
   ]
  },
  {
   "cell_type": "code",
   "execution_count": null,
   "id": "eb746880",
   "metadata": {},
   "outputs": [],
   "source": [
    "#Q.11. Which indivdual country has the highest no. of tv shows?\n",
    "data_new.head(2)\n",
    "\n",
    "#create new dataframe which has only tv shows\n",
    "data_tvshow = data_new[data_new['Category']== 'TV Show']\n",
    "data_tvshow.head(2)\n",
    "data_tvshow.Country.values_counts().head(1)"
   ]
  },
  {
   "cell_type": "code",
   "execution_count": null,
   "id": "10a94f3a",
   "metadata": {},
   "outputs": [],
   "source": [
    "#Q.12. How can we sort the dataset by year?\n",
    "data_new.sort_values(by = 'Year', ascending=False).head()"
   ]
  },
  {
   "cell_type": "code",
   "execution_count": null,
   "id": "61f6aee7",
   "metadata": {},
   "outputs": [],
   "source": [
    "#Q.13. Find all instances where:\n",
    "#Category is 'Movie' and Type is 'Dramas'\n",
    "data_new[(data_new['Category']=='Movie') & (data_new['Type']=='Dramas')].head(2)"
   ]
  },
  {
   "cell_type": "code",
   "execution_count": null,
   "id": "02bd37bd",
   "metadata": {},
   "outputs": [],
   "source": [
    "#Category is 'TV Show' and Type is 'Kids' TV'\n",
    "data_new[(data_new['Category']=='TV Show') & (data_new['Type']==\"Kids' TV\")].head(2)"
   ]
  },
  {
   "cell_type": "code",
   "execution_count": null,
   "id": "d105e1f2",
   "metadata": {},
   "outputs": [],
   "source": [
    "#use Or operator for mulitple conditions\n",
    "data_new[(data_new['Category']=='Movie') & (data_new['Type']=='Dramas') | (data_new['Category']=='TV Show') & (data_new['Type']==\"Kids' TV\")]"
   ]
  }
 ],
 "metadata": {
  "kernelspec": {
   "display_name": "Python 3",
   "language": "python",
   "name": "python3"
  },
  "language_info": {
   "codemirror_mode": {
    "name": "ipython",
    "version": 3
   },
   "file_extension": ".py",
   "mimetype": "text/x-python",
   "name": "python",
   "nbconvert_exporter": "python",
   "pygments_lexer": "ipython3",
   "version": "3.8.8"
  }
 },
 "nbformat": 4,
 "nbformat_minor": 5
}
